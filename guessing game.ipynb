{
 "cells": [
  {
   "cell_type": "code",
   "execution_count": 2,
   "metadata": {},
   "outputs": [],
   "source": [
    "import random"
   ]
  },
  {
   "cell_type": "code",
   "execution_count": 7,
   "metadata": {},
   "outputs": [
    {
     "data": {
      "text/plain": [
       "86"
      ]
     },
     "execution_count": 7,
     "metadata": {},
     "output_type": "execute_result"
    }
   ],
   "source": [
    "random.randint(1,100)"
   ]
  },
  {
   "cell_type": "code",
   "execution_count": 11,
   "metadata": {},
   "outputs": [
    {
     "name": "stdout",
     "output_type": "stream",
     "text": [
      "Guess kar hal:56\n",
      "guess lower\n",
      "Guess kar hal:23\n",
      "guess lower\n",
      "Guess kar hal:12\n",
      "guess lower\n",
      "Guess kar hal:6\n",
      "guess high\n",
      "Guess kar hal:8\n",
      "guess high\n",
      "Guess kar hal:9\n",
      "Sachu\n",
      "('You took', 5, 'attempts')\n"
     ]
    }
   ],
   "source": [
    "jackpot=random.randint(1,100)\n",
    "\n",
    "guess = int(input('Guess kar hal:'))\n",
    "counter=0\n",
    "while guess!=jackpot:\n",
    "    if guess<jackpot:\n",
    "        print('guess high')\n",
    "    else:\n",
    "        print('guess lower')\n",
    "    guess = int(input('Guess kar hal:'))\n",
    "    counter=counter+1\n",
    "    \n",
    "print('Sachu')\n",
    "print('You took',counter,'attempts')\n"
   ]
  },
  {
   "cell_type": "code",
   "execution_count": null,
   "metadata": {},
   "outputs": [],
   "source": []
  }
 ],
 "metadata": {
  "kernelspec": {
   "display_name": "Python 2",
   "language": "python",
   "name": "python2"
  },
  "language_info": {
   "codemirror_mode": {
    "name": "ipython",
    "version": 2
   },
   "file_extension": ".py",
   "mimetype": "text/x-python",
   "name": "python",
   "nbconvert_exporter": "python",
   "pygments_lexer": "ipython2",
   "version": "2.7.16"
  }
 },
 "nbformat": 4,
 "nbformat_minor": 2
}
