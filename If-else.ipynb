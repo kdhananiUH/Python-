{
 "cells": [
  {
   "cell_type": "markdown",
   "metadata": {},
   "source": [
    "# If - else"
   ]
  },
  {
   "cell_type": "code",
   "execution_count": 1,
   "metadata": {},
   "outputs": [
    {
     "name": "stdout",
     "output_type": "stream",
     "text": [
      "Give your email'kkfvkl'\n",
      "Enter password'rf'\n",
      "Sorry your credentials does not match\n"
     ]
    }
   ],
   "source": [
    "a = input('Give your email')\n",
    "b = input('Enter password')\n",
    "\n",
    "if a=='dk@gmail.com' and b=='123':\n",
    "    print('Welcome!!!')\n",
    "else:\n",
    "    print('Sorry your credentials does not match')"
   ]
  },
  {
   "cell_type": "code",
   "execution_count": 1,
   "metadata": {},
   "outputs": [
    {
     "name": "stdout",
     "output_type": "stream",
     "text": [
      "Give your email'esdsds'\n",
      "Incorrect email\n"
     ]
    }
   ],
   "source": [
    "a = input('Give your email')\n",
    "\n",
    "if '@' in a:\n",
    "    b = input('Enter password')\n",
    "    if a=='dk@gmail.com' and b=='123':\n",
    "        print('Welcome!!!')\n",
    "    elif a=='dk@gmail.com' and b!='123':\n",
    "        print('Wrong password')\n",
    "        print('Try again')\n",
    "        c=input('Password:')\n",
    "        if c=='123':\n",
    "            print('finally correct')\n",
    "        else:\n",
    "            print('Still incorrect')\n",
    "            \n",
    "    else:\n",
    "        print('Sorry your credentials does not match')\n",
    "else:\n",
    "    print('Incorrect email')"
   ]
  },
  {
   "cell_type": "code",
   "execution_count": null,
   "metadata": {},
   "outputs": [],
   "source": [
    "a = input('Give your email')\n",
    "if '@' in a:\n",
    "    for i in a:\n",
    "        b=input('Password:')\n",
    "        if i=='dk@gmail.com' and b=='123':\n",
    "            break\n",
    "            print('Welcome')\n",
    "        elif i=='dk@gmail.com' and b!='123':\n",
    "            print('incorrect password')\n",
    "        else:\n",
    "            print('Still incorrect')\n",
    "                    \n",
    "else:\n",
    "    print('Email not ok')"
   ]
  },
  {
   "cell_type": "code",
   "execution_count": null,
   "metadata": {},
   "outputs": [],
   "source": []
  }
 ],
 "metadata": {
  "kernelspec": {
   "display_name": "Python 2",
   "language": "python",
   "name": "python2"
  },
  "language_info": {
   "codemirror_mode": {
    "name": "ipython",
    "version": 2
   },
   "file_extension": ".py",
   "mimetype": "text/x-python",
   "name": "python",
   "nbconvert_exporter": "python",
   "pygments_lexer": "ipython2",
   "version": "2.7.16"
  }
 },
 "nbformat": 4,
 "nbformat_minor": 2
}
